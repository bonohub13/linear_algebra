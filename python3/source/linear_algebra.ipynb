{
 "cells": [
  {
   "cell_type": "markdown",
   "metadata": {},
   "source": [
    "# Learning the fundamentals of linear algebra through python"
   ]
  },
  {
   "cell_type": "code",
   "execution_count": 1,
   "metadata": {},
   "outputs": [],
   "source": [
    "from matrix import Matrix"
   ]
  },
  {
   "cell_type": "code",
   "execution_count": 2,
   "metadata": {},
   "outputs": [
    {
     "name": "stdout",
     "output_type": "stream",
     "text": [
      "A\n",
      "[[1.0, 2.0, 3.0]\n",
      " [2.0, 4.0, 6.0]\n",
      " [3.0, 6.0, 9.0]]\n",
      "\n",
      "----------------------------------------\n",
      "\n",
      "B\n",
      "[[0.0, 1.0, 2.0]\n",
      " [1.0, 4.0, 9.0]\n",
      " [8.0, 27.0, 64.0]]\n"
     ]
    }
   ],
   "source": [
    "A = Matrix([[(i_out+1)*(i_in+1) for i_in in range(3)] for i_out in range(3)])\n",
    "B = Matrix([[(j_in+j_out)**(j_out+1) for j_in in range(3)] for j_out in range(3)])\n",
    "\n",
    "print('A')\n",
    "print(A)\n",
    "\n",
    "print('\\n{}\\n'.format('-'*40))\n",
    "\n",
    "print('B')\n",
    "print(B)"
   ]
  },
  {
   "cell_type": "code",
   "execution_count": 3,
   "metadata": {},
   "outputs": [
    {
     "name": "stdout",
     "output_type": "stream",
     "text": [
      "A + B\n",
      "[[1.0, 3.0, 5.0]\n",
      " [3.0, 8.0, 15.0]\n",
      " [11.0, 33.0, 73.0]]\n",
      "\n",
      "----------------------------------------\n",
      "\n",
      "A - B\n",
      "[[1.0, 1.0, 1.0]\n",
      " [1.0, 0.0, -3.0]\n",
      " [-5.0, -21.0, -55.0]]\n"
     ]
    }
   ],
   "source": [
    "#addition and subtraction between two matrices\n",
    "print('A + B')\n",
    "print(A + B)\n",
    "\n",
    "print('\\n{}\\n'.format('-'*40))\n",
    "\n",
    "print('A - B')\n",
    "print(A - B)"
   ]
  },
  {
   "cell_type": "markdown",
   "metadata": {},
   "source": [
    "## addition and subtraction method for vectors and matrices\n",
    "### addition between two vectors\n",
    "$$\n",
    "\\boldsymbol{a} + \\boldsymbol{b} =\n",
    "    \\left[\\begin{array}{ccc}\n",
    "        a_0 + b_0 \\\\\n",
    "        \\vdots \\\\\n",
    "        a_n + b_n \\\\\n",
    "    \\end{array}\\right]\n",
    "$$\n",
    "### subtraction between two vectors\n",
    "$$\n",
    "\\boldsymbol{a} - \\boldsymbol{b} =\n",
    "    \\left[\\begin{array}{ccc}\n",
    "    a_0 - b_0 \\\\\n",
    "    \\vdots \\\\\n",
    "    a_n - b_n \\\\\n",
    "    \\end{array}\\right]\n",
    "$$\n",
    "### addition between two matrices\n",
    "$$\n",
    "\\boldsymbol{A} + \\boldsymbol{B} =\n",
    "    \\left[\\begin{array}{ccc}\n",
    "        a_{0,0} + b_{0,0} & \\cdots & a_{0,m} + b_{0,m} \\\\\n",
    "        \\vdots & \\ddots & \\vdots \\\\\n",
    "        a_{n,0} + b_{n,0} & \\cdots & a_{n,m} + b_{n,m} \\\\\n",
    "    \\end{array}\\right]\n",
    "$$\n",
    "### subtraction between two matrices\n",
    "$$\n",
    "\\boldsymbol{A} - \\boldsymbol{B} =\n",
    "    \\left[\\begin{array}{ccc}\n",
    "        a_{0,0} - b_{0,0} & \\cdots & a_{0,m} - b_{0,m} \\\\\n",
    "        \\vdots & \\ddots & \\vdots \\\\\n",
    "        a_{n,0} - b_{n,0} & \\cdots & a_{n,m} - b_{n,m} \\\\\n",
    "    \\end{array}\\right]\n",
    "$$\n",
    "\n",
    "### ::::: Note :::::\n",
    "- When calculating the sum/difference of multiple vectors or matrices, the size of both vectors or matrices must match in order to calculate the addition/subtraction between the vectors or matrices."
   ]
  },
  {
   "cell_type": "code",
   "execution_count": 4,
   "metadata": {},
   "outputs": [
    {
     "name": "stdout",
     "output_type": "stream",
     "text": [
      "-1 x (A + B)\n",
      "[[-0.1, -0.3, -0.5]\n",
      " [-0.3, -0.8, -1.5]\n",
      " [-1.1, -3.3, -7.3]]\n"
     ]
    }
   ],
   "source": [
    "#multiplication between a scalar and matrix\n",
    "scalar = -0.1\n",
    "\n",
    "print('-1 x (A + B)')\n",
    "print(scalar * (A + B))"
   ]
  },
  {
   "cell_type": "markdown",
   "metadata": {},
   "source": [
    "## Scalar multiplication for vectors and matrices\n",
    "\n",
    "### multiplication between a scalar and vectors\n",
    "$$\n",
    "\\boldsymbol{s} \\times \\boldsymbol{a} =\n",
    "    \\left[\\begin{array}{ccc}\n",
    "        s \\times a_0 \\\\\n",
    "        \\vdots \\\\\n",
    "        s \\times a_n \\\\\n",
    "    \\end{array}\\right]\n",
    "$$\n",
    "\n",
    "### multiplication between a scalar and matrices\n",
    "$$\n",
    "\\boldsymbol{s} \\times \\boldsymbol{A} =\n",
    "    \\left[\\begin{array}{ccc}\n",
    "        s \\times a_{0,0} & \\cdots & s \\times a_{0,m} \\\\\n",
    "        \\vdots & \\ddots & \\vdots \\\\\n",
    "        s \\times a_{n,0} & \\cdots & s \\times a_{n,m} \\\\\n",
    "    \\end{array}\\right]\n",
    "$$"
   ]
  },
  {
   "cell_type": "code",
   "execution_count": 5,
   "metadata": {},
   "outputs": [
    {
     "name": "stdout",
     "output_type": "stream",
     "text": [
      "original matrix B\n",
      "[[0.0, 1.0, 2.0]\n",
      " [1.0, 4.0, 9.0]\n",
      " [8.0, 27.0, 64.0]]\n",
      "\n",
      "----------------------------------------\n",
      "\n",
      "transposed matrix B\n",
      "[[0.0, 1.0, 8.0]\n",
      " [1.0, 4.0, 27.0]\n",
      " [2.0, 9.0, 64.0]]\n"
     ]
    }
   ],
   "source": [
    "#transpose of a matrix\n",
    "B_T = Matrix(B.matrix)\n",
    "\n",
    "print('original matrix B')\n",
    "print(B_T)\n",
    "\n",
    "print('\\n{}\\n'.format('-'*40))\n",
    "\n",
    "print('transposed matrix B')\n",
    "B_T.T()\n",
    "print(B_T)"
   ]
  },
  {
   "cell_type": "markdown",
   "metadata": {},
   "source": [
    "## Transpose of vectors and matrices\n",
    "\n",
    "### transpose of a vector\n",
    "$$\n",
    "\\boldsymbol{a^T} =\n",
    "    \\left[\\begin{array}{ccc}\n",
    "        a_0 \\\\\n",
    "        \\vdots \\\\\n",
    "        a_n \\\\\n",
    "    \\end{array}\\right]^T = \n",
    "    \\left[\\begin{array}{ccc}\n",
    "        a_0 & \\cdots & a_n \\\\\n",
    "    \\end{array}\\right]\n",
    "$$\n",
    "\n",
    "### transpose of a matrix\n",
    "$$\n",
    "\\boldsymbol{A^T} =\n",
    "    \\left[\\begin{array}{ccc}\n",
    "        a_{0,0} & \\cdots & a_{0,m} \\\\\n",
    "        \\vdots & \\ddots & \\vdots \\\\\n",
    "        a_{n,0} & \\cdots & a_{n,m} \\\\\n",
    "    \\end{array}\\right]^T =\n",
    "    \\left[\\begin{array}{ccc}\n",
    "        a_{0,0} & \\cdots & a_{n,0} \\\\\n",
    "        \\vdots & \\ddots & \\vdots \\\\\n",
    "        a_{0,m} & \\cdots & a_{n,m} \\\\\n",
    "    \\end{array}\\right]\n",
    "$$"
   ]
  },
  {
   "cell_type": "code",
   "execution_count": 6,
   "metadata": {},
   "outputs": [
    {
     "name": "stdout",
     "output_type": "stream",
     "text": [
      "A x B\n",
      "[[26.0, 90.0, 212.0]\n",
      " [52.0, 180.0, 424.0]\n",
      " [78.0, 270.0, 636.0]]\n",
      "\n",
      "----------------------------------------\n",
      "\n",
      "B x A\n",
      "[[8.0, 16.0, 24.0]\n",
      " [36.0, 72.0, 108.0]\n",
      " [254.0, 508.0, 762.0]]\n"
     ]
    }
   ],
   "source": [
    "#multiplication between two matrices\n",
    "print('A x B')\n",
    "print(A * B)\n",
    "\n",
    "print('\\n{}\\n'.format('-'*40))\n",
    "\n",
    "print('B x A')\n",
    "print(B * A)"
   ]
  },
  {
   "cell_type": "markdown",
   "metadata": {},
   "source": [
    "## Multiplication method for vectors and matrices\n",
    "\n",
    "### multiplication between vectors\n",
    "$$\n",
    "\\boldsymbol{a} =\n",
    "    \\left[\\begin{array}{ccc}\n",
    "        a_0 & \\cdots & a_n \\\\\n",
    "    \\end{array}\\right], \n",
    "\\boldsymbol{b} =\n",
    "    \\left[\\begin{array}{ccc}\n",
    "        b_0 \\\\\n",
    "        \\vdots \\\\\n",
    "        b_n \\\\\n",
    "    \\end{array}\\right]\n",
    "$$\n",
    "<br>\n",
    "$$\n",
    "\\boldsymbol{a} \\times \\boldsymbol{b} =\n",
    "    \\left[\\begin{array}{ccc}\n",
    "        a_0 \\times b_0 & \\cdots & a_0 \\times b_n \\\\\n",
    "        \\vdots & \\ddots & \\vdots \\\\\n",
    "        a_n \\times b_0 & \\cdots & a_n \\times b_n \\\\\n",
    "    \\end{array}\\right]\n",
    "$$\n",
    "<br>\n",
    "$$\n",
    "\\boldsymbol{b} \\times \\boldsymbol{a} = \n",
    "    \\sum^{n}_{i=0}a_i \\times b_i\n",
    "$$\n",
    "\n",
    "### multiplication between matrices\n",
    "$$\n",
    "\\boldsymbol{A} =\n",
    "    \\left[\\begin{array}{ccc}\n",
    "        a_{0,0} & \\cdots & a_{0,p} \\\\\n",
    "        \\vdots & \\ddots & \\vdots \\\\\n",
    "        a_{m,0} & \\cdots & a_{m,p} \\\\\n",
    "    \\end{array}\\right], \n",
    "\\boldsymbol{B} =\n",
    "    \\left[\\begin{array}{ccc}\n",
    "        b_{0,0} & \\cdots & b_{0,n} \\\\\n",
    "        \\vdots & \\ddots & \\vdots \\\\\n",
    "        b_{q,0} & \\cdots & b_{q,n} \\\\\n",
    "    \\end{array}\\right]\n",
    "$$\n",
    "<br>\n",
    "$$\n",
    "\\boldsymbol{A} \\times \\boldsymbol{B} =\n",
    "    \\left[\\begin{array}{ccc}\n",
    "        \\sum^{m}_{i=0}a_{i,0} \\times b_{0,i} & \\cdots & \\sum^{m}_{i=0}a_{i,p} \\times b_{0,i} \\\\\n",
    "        \\vdots & \\ddots & \\vdots \\\\\n",
    "        \\sum^{m}_{i=0}a_{i,0} \\times b_{q,i} & \\cdots & \\sum^{m}_{i=0}a_{i,p} \\times b_{q,i} \\\\\n",
    "    \\end{array}\\right](n=m)\n",
    "$$\n",
    "<br>\n",
    "$$\n",
    "\\boldsymbol{B} \\times \\boldsymbol{A} =\n",
    "    \\left[\\begin{array}{ccc}\n",
    "        \\sum^{p}_{j=0}b_{j,0} \\times a_{0,j} & \\cdots & \\sum^{p}_{j=0}b_{j,0} \\times a_{m,j} \\\\\n",
    "        \\vdots & \\ddots & \\vdots \\\\\n",
    "        \\sum^{p}_{j=0}b_{j,0} \\times a_{m,j} & \\cdots & \\sum^{p}_{j=0}b_{j,n} \\times a_{m,j} \\\\\n",
    "    \\end{array}\\right](p=q)\n",
    "$$\n",
    "\n",
    "### ::::: Note :::::\n",
    "1. The vertical length of the first vector/matrix and the horizontal length of the other vector/matrix must match in order to calculate the product of multiple vectors/matrices\n",
    "2. The order of which the vectors/matrices are multiplied will affect the product between the vectors/matrices unlike the addition/subtraction of vectors/matrices."
   ]
  },
  {
   "cell_type": "code",
   "execution_count": 7,
   "metadata": {},
   "outputs": [
    {
     "name": "stdout",
     "output_type": "stream",
     "text": [
      "det(A) = 0.0\n",
      "\n",
      "----------------------------------------\n",
      "\n",
      "det(B) = -2.0\n"
     ]
    }
   ],
   "source": [
    "#determinant of the two matrices\n",
    "print('det(A) = {}'.format(A.det()))\n",
    "\n",
    "print('\\n{}\\n'.format('-'*40))\n",
    "\n",
    "print('det(B) = {}'.format(B.det()))"
   ]
  },
  {
   "cell_type": "markdown",
   "metadata": {},
   "source": [
    "## Computation of the determinant of a matrix\n",
    "\n",
    "### For matrices with the size 2x2\n",
    "$$\n",
    "\\boldsymbol{A} =\n",
    "    \\left[\\begin{array}{ccc}\n",
    "        a_{0,0} & a_{0,1} \\\\\n",
    "        a_{1,0} & a_{1,1} \\\\\n",
    "    \\end{array}\\right]\n",
    "$$\n",
    "<br>\n",
    "$$\n",
    "det(\\boldsymbol{A}) = a_{0,0} \\times a_{1,1} - a_{0,1} \\times a_{1,0}\n",
    "$$\n",
    "\n",
    "### For matrices with the size above 2x2\n",
    "\n",
    "#### Find the triangular matrix of the matrix\n",
    "$$\n",
    "\\boldsymbol{A} =\n",
    "    \\left[\\begin{array}{ccc}\n",
    "        a_{0,0} & \\cdots & a_{0,n} \\\\\n",
    "        \\vdots & \\ddots & \\vdots \\\\\n",
    "        a_{n,0} & \\cdots & a_{n,n}\n",
    "    \\end{array}\\right],\n",
    "\\boldsymbol{U} =\n",
    "    \\left[\\begin{array}{ccc}\n",
    "        u_{0,0} & 0 & \\cdots & 0 \\\\\n",
    "        0 & u_{1,1} & \\cdots & 0 \\\\\n",
    "        \\vdots & \\vdots & \\ddots & \\vdots \\\\\n",
    "        0 & 0 & \\cdots & u_{n,n} \\\\\n",
    "    \\end{array}\\right]\n",
    "$$\n",
    "<br/>\n",
    "- <i>__A__</i> is the original matrix, and <i>__U__</i> is the triangular matrix of <i>__A__</i>.\n",
    "\n",
    "#### Computation of the determinant\n",
    "#### After the triangular matrix of <i>__A__</i> has been computed, the determinant can be solved with the following algebraic expression\n",
    "$$\n",
    "det(\\boldsymbol{A}) = \\prod^{n}_{i=0,j=0}u_{i,j}\n",
    "$$\n",
    "\n",
    "### ::::: Note :::::\n",
    "- To find the determinant of a matrix, the matrix must be a square matrix"
   ]
  },
  {
   "cell_type": "code",
   "execution_count": 8,
   "metadata": {},
   "outputs": [
    {
     "name": "stdout",
     "output_type": "stream",
     "text": [
      "1/A\n",
      "This matrix does not have an inverse matrix.\n",
      "None\n",
      "\n",
      "----------------------------------------\n",
      "\n",
      "1/B\n",
      "Successfully inverted matrix!\n",
      "[[-9.0, 9.0, -1.0]\n",
      " [-9.0, 16.0, -2.0]\n",
      " [5.0, -8.0, 1.0]]\n"
     ]
    }
   ],
   "source": [
    "#Inverse matrix of each matrix\n",
    "print('1/A')\n",
    "print(A.inv())\n",
    "\n",
    "print('\\n{}\\n'.format('-'*40))\n",
    "\n",
    "print('1/B')\n",
    "print(B.inv())"
   ]
  },
  {
   "cell_type": "markdown",
   "metadata": {},
   "source": [
    "## Computation of inverse matrix using Gauss Jordan Elimination method\n",
    "\n",
    "$$\n",
    "\\boldsymbol{A} =\n",
    "    \\left[\\begin{array}{ccc}\n",
    "        a_{0,0} & \\cdots & a_{0,n} \\\\\n",
    "        \\vdots & \\ddots & \\vdots \\\\\n",
    "        a_{n,0} & \\cdots & a_{n,n} \\\\\n",
    "    \\end{array}\\right]\n",
    "$$\n",
    "<br/>\n",
    "To compute an inverse matrix using the Gauss Jordan Elimination method, the matrix above is not fit for the computation, and therefore needs to be converted with an identity matrix on the right side of matrix $\\boldsymbol{A}$ like the following.<br/>\n",
    "$$\n",
    "\\left[\\begin{array}{cccc|cccc}\n",
    "    a_{0,0} & a_{0,1} & \\cdots & a_{0,n} &   1    &   0    & \\cdots &   0    \\\\\n",
    "    a_{1,0} & a_{1,1} & \\cdots & a_{1,n} &   0    &   1    & \\cdots &   0    \\\\\n",
    "    \\vdots  & \\vdots  & \\ddots & \\vdots  & \\vdots & \\vdots & \\ddots & \\vdots \\\\\n",
    "    a_{n,0} & a_{n,1} & \\cdots & a_{n,n} &   0    &   0    & \\cdots &   1    \\\\\n",
    "\\end{array}\\right]\n",
    "$$\n",
    "<br/>\n",
    "Compute the extended matrix so the left side would become the identity matrix like the following.<br/>\n",
    "$$\n",
    "\\left[\\begin{array}{cccc|cccc}\n",
    "       1   &    0   & \\cdots &    0   & a^{'}_{0,0} & a^{'}_{0,1} & \\cdots & a^{'}_{0,n} \\\\\n",
    "       0   &    1   & \\cdots &    0   & a^{'}_{1,0} & a^{'}_{1,1} & \\cdots & a^{'}_{1,n} \\\\\n",
    "    \\vdots & \\vdots & \\ddots & \\vdots &    \\vdots   &    \\vdots   & \\ddots &    \\vdots   \\\\\n",
    "       0   &    0   & \\cdots &    1   & a^{'}_{n,0} & a^{'}_{n,1} & \\cdots & a^{'}_{n,n} \\\\\n",
    "\\end{array}\\right]\n",
    "$$\n",
    "<br/>\n",
    "The right side of the computed extended matrix is the inverse matrix $\\boldsymbol{A^{-1}}$ of the original matrix $\\boldsymbol{A}$.\n",
    "$$\n",
    "\\boldsymbol{A^{-1}} =\n",
    "    \\left[\\begin{array}{cccc}\n",
    "        a^{'}_{0,0} & a^{'}_{0,1} & \\cdots & a^{'}_{0,n} \\\\\n",
    "        a^{'}_{1,0} & a^{'}_{1,1} & \\cdots & a^{'}_{1,n} \\\\\n",
    "           \\vdots   &    \\vdots   & \\ddots &    \\vdots   \\\\\n",
    "        a^{'}_{n,0} & a^{'}_{n,1} & \\cdots & a^{'}_{n,n} \\\\\n",
    "    \\end{array}\\right]\n",
    "$$\n",
    "<br/>\n",
    "\n",
    "### ::::: Note :::::\n",
    "- To have an inverse matrix, the matrix must be a square matrix.\n",
    "- If the determinant of a matrix is equal to 0, the matrix does not have an inverse matrix."
   ]
  }
 ],
 "metadata": {
  "kernelspec": {
   "display_name": "Python 3",
   "language": "python",
   "name": "python3"
  },
  "language_info": {
   "codemirror_mode": {
    "name": "ipython",
    "version": 3
   },
   "file_extension": ".py",
   "mimetype": "text/x-python",
   "name": "python",
   "nbconvert_exporter": "python",
   "pygments_lexer": "ipython3",
   "version": "3.6.9"
  }
 },
 "nbformat": 4,
 "nbformat_minor": 2
}
